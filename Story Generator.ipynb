{
 "cells": [
  {
   "cell_type": "code",
   "execution_count": 9,
   "id": "3ad57e6c",
   "metadata": {},
   "outputs": [
    {
     "name": "stdout",
     "output_type": "stream",
     "text": [
      "A few years ago, Alok, a Data Scientist that lived in Shyambazar, went to the school and wrote a book\n"
     ]
    }
   ],
   "source": [
    "import random\n",
    "when = ['A few years ago', 'Yesterday', 'Last night', 'A long time ago','On 20th Jan']\n",
    "who = ['a Data Scientist', 'a teacher', 'a doctor', 'an Accountant','a salesperson']\n",
    "name = ['Joy', 'Nidhi','Akash', 'Alok', 'Joita']\n",
    "residence = ['Dumdum','Tollygaunj', 'Beadon Row', 'Shyambazar', 'Laketown']\n",
    "went = ['cinema', 'university','seminar', 'school', 'laundry']\n",
    "happened = ['made a lot of friends','Eats a burger', 'found a secret key', 'solved a mistery', 'wrote a book']\n",
    "print(random.choice(when) + ', '+ random.choice(name)+ ', ' + random.choice(who) + ' that lived in ' + random.choice(residence) + ', went to the ' + random.choice(went) + ' and ' + random.choice(happened))"
   ]
  },
  {
   "cell_type": "code",
   "execution_count": null,
   "id": "1dad21f2",
   "metadata": {},
   "outputs": [],
   "source": []
  }
 ],
 "metadata": {
  "kernelspec": {
   "display_name": "Python 3",
   "language": "python",
   "name": "python3"
  },
  "language_info": {
   "codemirror_mode": {
    "name": "ipython",
    "version": 3
   },
   "file_extension": ".py",
   "mimetype": "text/x-python",
   "name": "python",
   "nbconvert_exporter": "python",
   "pygments_lexer": "ipython3",
   "version": "3.6.8"
  }
 },
 "nbformat": 4,
 "nbformat_minor": 5
}
